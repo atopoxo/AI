{
  "nbformat": 4,
  "nbformat_minor": 0,
  "metadata": {
    "colab": {
      "name": "RNN.ipynb",
      "version": "0.3.2",
      "provenance": [],
      "collapsed_sections": [],
      "include_colab_link": true
    },
    "kernelspec": {
      "name": "python3",
      "display_name": "Python 3"
    }
  },
  "cells": [
    {
      "cell_type": "markdown",
      "metadata": {
        "id": "view-in-github",
        "colab_type": "text"
      },
      "source": [
        "<a href=\"https://colab.research.google.com/github/atopoxo/AI/blob/master/TestCase/RNN.ipynb\" target=\"_parent\"><img src=\"https://colab.research.google.com/assets/colab-badge.svg\" alt=\"Open In Colab\"/></a>"
      ]
    },
    {
      "cell_type": "code",
      "metadata": {
        "id": "qwFcRjUimO4T",
        "colab_type": "code",
        "outputId": "79f36609-3c36-48d6-fc5e-c7d90f3e2444",
        "colab": {
          "base_uri": "https://localhost:8080/",
          "height": 1000
        }
      },
      "source": [
        "import copy, numpy as np\n",
        "np.random.seed(0)\n",
        "\n",
        "def sigmoid(x):\n",
        "  output = 1 / (1 + np.exp(-x))\n",
        "  return output\n",
        "\n",
        "def sigmoid_output_to_derivative(output):\n",
        "  return output * (1 - output)\n",
        "\n",
        "int2binary = {}\n",
        "binary_dim = 8\n",
        "largest_number = pow(2, binary_dim)\n",
        "binary = np.unpackbits(np.array([range(largest_number)], dtype = np.uint8).T, axis = 1)\n",
        "\n",
        "for i in range(largest_number):\n",
        "  int2binary[i] = binary[i]\n",
        "\n",
        "alpha = 0.9\n",
        "input_dim = 2\n",
        "hidden_dim = 16\n",
        "output_dim = 1\n",
        "\n",
        "synapse_0 = (2 * np.random.random((input_dim, hidden_dim)) - 1) * 0.05\n",
        "synapse_1 = (2 * np.random.random((hidden_dim, output_dim)) - 1) * 0.05\n",
        "synapse_h = (2 * np.random.random((hidden_dim, hidden_dim)) - 1) * 0.05\n",
        "\n",
        "synapse_0_update = np.zeros_like(synapse_0)\n",
        "synapse_1_update = np.zeros_like(synapse_1)\n",
        "synapse_h_update = np.zeros_like(synapse_h)\n",
        "\n",
        "print(\"synapse_0:\")\n",
        "print(synapse_0)\n",
        "print(\"synapse_h\")\n",
        "print(synapse_h)\n",
        "\n",
        "for i in range(1):\n",
        "  a_int = np.random.randint(largest_number)\n",
        "  b_int = np.random.randint(largest_number / 2)\n",
        "  if a_int < b_int:\n",
        "    tt = b_int\n",
        "    b_int = a_int\n",
        "    a_int = tt\n",
        "    \n",
        "  a = int2binary[a_int]\n",
        "  b = int2binary[b_int]\n",
        "  \n",
        "  c_int = a_int - b_int\n",
        "  c = int2binary[c_int]\n",
        "  \n",
        "  d = np.zeros_like(c)\n",
        "  overallError = 0\n",
        "  \n",
        "  layer_2_deltas = list()\n",
        "  layer_1_values = list()\n",
        "  \n",
        "  layer_1_values.append(np.ones(hidden_dim) * 0.1)\n",
        "  \n",
        "  print(\"a:\")\n",
        "  print(a)\n",
        "  print(\"b:\")\n",
        "  print(b)\n",
        "  print(\"c:\")\n",
        "  print(c)\n",
        "  for position in range(binary_dim):\n",
        "    X = np.array([[a[binary_dim - position - 1], b[binary_dim - position - 1]]])\n",
        "    y = np.array([[c[binary_dim - position - 1]]]).T\n",
        "    layer_1 = sigmoid(np.dot(X, synapse_0) + np.dot(layer_1_values[-1], synapse_h))\n",
        "    layer_2 = sigmoid(np.dot(layer_1, synapse_1))\n",
        "    \n",
        "    layer_2_error = y - layer_2\n",
        "    layer_2_deltas.append((layer_2_error) * sigmoid_output_to_derivative(layer_2))\n",
        "    overallError += np.abs(layer_2_error[0])\n",
        "    \n",
        "    print(\"X:\")\n",
        "    print(X)\n",
        "    print(\"y:\")\n",
        "    print(y)\n",
        "    print(\"layer_l:\")\n",
        "    print(layer_l)\n",
        "    print(\"layer_2:\")\n",
        "    print(layer_2)\n",
        "    print(\"layer_2_error:\")\n",
        "    print(layer_2_error)\n",
        "    print(\"layer_2_detas:\")\n",
        "    print(layer_2_deltas)"
      ],
      "execution_count": 1,
      "outputs": [
        {
          "output_type": "stream",
          "text": [
            "synapse_0:\n",
            "[[ 0.00488135  0.02151894  0.01027634  0.00448832 -0.00763452  0.01458941\n",
            "  -0.00624128  0.0391773   0.04636628 -0.01165585  0.0291725   0.00288949\n",
            "   0.00680446  0.04255966 -0.04289639 -0.04128707]\n",
            " [-0.04797816  0.03326198  0.02781568  0.03700121  0.04786183  0.02991586\n",
            "  -0.00385206  0.02805292 -0.03817256  0.0139921  -0.03566467  0.04446689\n",
            "   0.00218483 -0.00853381 -0.02354444  0.02742337]]\n",
            "synapse_h\n",
            "[[-0.01845716 -0.01362892  0.00701968 -0.00613985  0.04883738 -0.03979552\n",
            "  -0.02911232 -0.03386905  0.01531083 -0.02467084 -0.00336892 -0.02555744\n",
            "  -0.03410304 -0.03896249  0.01563296 -0.0361817 ]\n",
            " [-0.03034176 -0.01312748  0.03209932 -0.04028987  0.03379449 -0.04039016\n",
            "   0.04764595 -0.00313488  0.04767611  0.01048455  0.02392636 -0.04608122\n",
            "  -0.0217193  -0.03798034 -0.02038598 -0.03812723]\n",
            " [-0.01820168 -0.0085737  -0.04358525  0.01924721  0.00666015 -0.02346105\n",
            "   0.00232481 -0.04060595  0.00759465  0.04292962 -0.0181431   0.01674104\n",
            "  -0.03682021  0.02163272 -0.02105939 -0.03168086]\n",
            " [ 0.00865129 -0.04798925  0.032894   -0.04953045  0.01778165 -0.0229992\n",
            "   0.0235194   0.04621885 -0.02512469  0.00761573  0.00920419  0.00722519\n",
            "  -0.02769184  0.0452749  -0.00528746  0.03464087]\n",
            " [ 0.01994793 -0.0202563   0.03137978 -0.01034943  0.03811032  0.00812729\n",
            "   0.03817354  0.01925316  0.02252543  0.00013244  0.04560836  0.01439902\n",
            "  -0.0076145   0.01063932 -0.04808068 -0.01984252]\n",
            " [ 0.01601735 -0.02099224  0.01180154 -0.00712313 -0.03645259 -0.02017177\n",
            "   0.00699649  0.00908728  0.00743252  0.01532008  0.01521033 -0.00685816\n",
            "   0.03965466 -0.01324381 -0.00641351  0.03919234]\n",
            " [ 0.0306194   0.02038886 -0.03997731  0.04194826  0.02142413  0.0498847\n",
            "  -0.03505517  0.03681261 -0.03375071  0.01155596 -0.037618    0.03480082\n",
            "   0.0307319   0.00691007 -0.00928167 -0.0430833 ]\n",
            " [ 0.01974288 -0.00464573  0.02220556  0.03663823  0.04755215  0.03558033\n",
            "  -0.04882859 -0.01400219  0.02299906 -0.03283703  0.00210366 -0.0445662\n",
            "  -0.03000035 -0.04814782  0.02936977 -0.02760753]\n",
            " [-0.01546483  0.04280813  0.02044144 -0.04681611 -0.03353058  0.01214784\n",
            "   0.00772286 -0.02621072  0.0434214   0.0113966   0.00356328  0.008991\n",
            "   0.0230122  -0.0188055  -0.01017789 -0.02901563]\n",
            " [-0.0313807   0.04443724  0.02395508 -0.00095412 -0.02725854 -0.02456435\n",
            "  -0.04419708 -0.00655834 -0.01882041  0.01963435 -0.01222482 -0.03203963\n",
            "  -0.04753213 -0.04327504  0.01793928 -0.00463032]\n",
            " [ 0.00365792  0.03966713  0.04903389 -0.0283103   0.01630782 -0.02366776\n",
            "  -0.0479349   0.02583787 -0.01799828 -0.01165361  0.00883171  0.03310485\n",
            "   0.01289818  0.03726507 -0.0226458   0.02980468]\n",
            " [-0.03143641  0.04527917  0.01874883 -0.02844923  0.04473706  0.02308558\n",
            "  -0.02460584 -0.0286688   0.00182007 -0.04743373 -0.02925299 -0.00753145\n",
            "  -0.012583   -0.00364246 -0.02223713  0.00867843]\n",
            " [ 0.03638556 -0.03824681  0.00173791 -0.03679319  0.02168597 -0.01039403\n",
            "   0.00654213 -0.03167202 -0.03551522 -0.00119437 -0.01443873  0.04404319\n",
            "   0.02653253  0.02486636  0.04037197 -0.04165776]\n",
            " [ 0.00521925  0.00844761  0.04619364 -0.02078525 -0.02591712 -0.03997061\n",
            "  -0.04835704  0.04295293  0.01699165  0.02851529 -0.02182699  0.00864102\n",
            "  -0.04360447 -0.00143724  0.04774951  0.03765052]\n",
            " [-0.0161841   0.04615702 -0.02682984  0.04493188  0.04413777  0.02992026\n",
            "   0.01304479  0.0374288  -0.02069797  0.03489436  0.01178767 -0.04867631\n",
            "  -0.01527665 -0.03518591  0.04818294 -0.00216297]\n",
            " [-0.00026086  0.01394725 -0.01314154 -0.03630997  0.03221177 -0.03101521\n",
            "   0.0011319  -0.0275683  -0.04021555  0.03621915  0.04729195  0.04608347\n",
            "   0.04065555  0.02740473 -0.01668548 -0.04188986]]\n",
            "a:\n",
            "[0 0 1 1 1 1 0 0]\n",
            "b:\n",
            "[0 0 0 0 1 0 0 1]\n",
            "c:\n",
            "[0 0 1 1 0 0 1 1]\n",
            "X:\n",
            "[[0 1]]\n",
            "y:\n",
            "[[1]]\n",
            "layer_l:\n"
          ],
          "name": "stdout"
        },
        {
          "output_type": "error",
          "ename": "NameError",
          "evalue": "ignored",
          "traceback": [
            "\u001b[0;31m---------------------------------------------------------------------------\u001b[0m",
            "\u001b[0;31mNameError\u001b[0m                                 Traceback (most recent call last)",
            "\u001b[0;32m<ipython-input-1-3ee69d18591c>\u001b[0m in \u001b[0;36m<module>\u001b[0;34m()\u001b[0m\n\u001b[1;32m     79\u001b[0m     \u001b[0mprint\u001b[0m\u001b[0;34m(\u001b[0m\u001b[0my\u001b[0m\u001b[0;34m)\u001b[0m\u001b[0;34m\u001b[0m\u001b[0;34m\u001b[0m\u001b[0m\n\u001b[1;32m     80\u001b[0m     \u001b[0mprint\u001b[0m\u001b[0;34m(\u001b[0m\u001b[0;34m\"layer_l:\"\u001b[0m\u001b[0;34m)\u001b[0m\u001b[0;34m\u001b[0m\u001b[0;34m\u001b[0m\u001b[0m\n\u001b[0;32m---> 81\u001b[0;31m     \u001b[0mprint\u001b[0m\u001b[0;34m(\u001b[0m\u001b[0mlayer_l\u001b[0m\u001b[0;34m)\u001b[0m\u001b[0;34m\u001b[0m\u001b[0;34m\u001b[0m\u001b[0m\n\u001b[0m\u001b[1;32m     82\u001b[0m     \u001b[0mprint\u001b[0m\u001b[0;34m(\u001b[0m\u001b[0;34m\"layer_2:\"\u001b[0m\u001b[0;34m)\u001b[0m\u001b[0;34m\u001b[0m\u001b[0;34m\u001b[0m\u001b[0m\n\u001b[1;32m     83\u001b[0m     \u001b[0mprint\u001b[0m\u001b[0;34m(\u001b[0m\u001b[0mlayer_2\u001b[0m\u001b[0;34m)\u001b[0m\u001b[0;34m\u001b[0m\u001b[0;34m\u001b[0m\u001b[0m\n",
            "\u001b[0;31mNameError\u001b[0m: name 'layer_l' is not defined"
          ]
        }
      ]
    },
    {
      "cell_type": "code",
      "metadata": {
        "id": "hTBRouoxK9J4",
        "colab_type": "code",
        "colab": {}
      },
      "source": [
        ""
      ],
      "execution_count": 0,
      "outputs": []
    },
    {
      "cell_type": "code",
      "metadata": {
        "id": "EW0JphXNK9qW",
        "colab_type": "code",
        "colab": {}
      },
      "source": [
        ""
      ],
      "execution_count": 0,
      "outputs": []
    },
    {
      "cell_type": "code",
      "metadata": {
        "id": "z9ud-l3MCNZ7",
        "colab_type": "code",
        "colab": {}
      },
      "source": [
        ""
      ],
      "execution_count": 0,
      "outputs": []
    },
    {
      "cell_type": "code",
      "metadata": {
        "id": "_8oOxdpYCN2c",
        "colab_type": "code",
        "colab": {}
      },
      "source": [
        ""
      ],
      "execution_count": 0,
      "outputs": []
    }
  ]
}